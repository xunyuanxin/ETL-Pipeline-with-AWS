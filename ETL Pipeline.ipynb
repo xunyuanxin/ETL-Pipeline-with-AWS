{
 "cells": [
  {
   "cell_type": "markdown",
   "id": "d7790218",
   "metadata": {},
   "source": [
    "### 1. Create an IAM role that has read access to S3\n",
    "[1.1 Create an IAM Role](https://learn.udacity.com/nanodegrees/nd027/parts/cd12440/lessons/2a40895d-1b82-41fa-8913-0dbffb0a4095/concepts/113f3fc2-feda-43f6-822d-8216c9336073)\n",
    "<br>[1.2 Create Security Group](https://learn.udacity.com/nanodegrees/nd027/parts/cd12440/lessons/2a40895d-1b82-41fa-8913-0dbffb0a4095/concepts/42d13cf6-3983-443d-b389-47cf27cee96b)\n",
    "<br>[1.3 Create an IAM User](https://learn.udacity.com/nanodegrees/nd027/parts/cd12440/lessons/2a40895d-1b82-41fa-8913-0dbffb0a4095/concepts/1b3e6b85-d159-4217-aa2c-408a29a08fb5)\n",
    "\n",
    "### 2. Edit the file `dwh.cfg`\n",
    "[AWS]\n",
    "<br>KEY=\\<YOUR_AWS_KEY>\n",
    "<br>SECRET=\\<YOUR_AWS_SECRET>\n",
    "    \n",
    "<br>[DWH]\n",
    "<br>DWH_CLUSTER_TYPE=multi-node\n",
    "<br>DWH_NUM_NODES=4\n",
    "<br>DWH_NUM_TYPE=dc2.large\n",
    "\n",
    "<br>DWH_IAM_ROLE_NAME=dwhRole\n",
    "<br>DWH_CLUSTER_IDENTIFIER=dwhCluster\n",
    "<br>DWH_DB=dwh\n",
    "<br>DWH_DB_USER=dwhuser\n",
    "<br>DWH_DB_PASSWORD=Passw0rd\n",
    "<br>DWH_PORT=5439\n",
    "\n",
    "\n",
    "### 3. Launch a Redshift Cluster"
   ]
  },
  {
   "cell_type": "code",
   "execution_count": null,
   "id": "592d3bbf",
   "metadata": {},
   "outputs": [],
   "source": [
    "#!pip install boto3"
   ]
  },
  {
   "cell_type": "code",
   "execution_count": null,
   "id": "7c9d88aa",
   "metadata": {},
   "outputs": [],
   "source": [
    "import pandas as pd\n",
    "import boto3\n",
    "import json"
   ]
  },
  {
   "cell_type": "code",
   "execution_count": null,
   "id": "f5148621",
   "metadata": {},
   "outputs": [],
   "source": [
    "# load DWH Params from a file\n",
    "import configparser\n",
    "config = configparser.ConfigParser()\n",
    "config.read_file(open('dwh.cfg'))\n",
    "\n",
    "KEY                    = config.get('AWS','KEY')\n",
    "SECRET                 = config.get('AWS','SECRET')\n",
    "\n",
    "DWH_CLUSTER_TYPE       = config.get(\"DWH\",\"DWH_CLUSTER_TYPE\")\n",
    "DWH_NUM_NODES          = config.get(\"DWH\",\"DWH_NUM_NODES\")\n",
    "DWH_NODE_TYPE          = config.get(\"DWH\",\"DWH_NODE_TYPE\")\n",
    "\n",
    "DWH_CLUSTER_IDENTIFIER = config.get(\"DWH\",\"DWH_CLUSTER_IDENTIFIER\")\n",
    "DWH_DB                 = config.get(\"DWH\",\"DWH_DB\")\n",
    "DWH_DB_USER            = config.get(\"DWH\",\"DWH_DB_USER\")\n",
    "DWH_DB_PASSWORD        = config.get(\"DWH\",\"DWH_DB_PASSWORD\")\n",
    "DWH_PORT               = config.get(\"DWH\",\"DWH_PORT\")\n",
    "\n",
    "DWH_IAM_ROLE_NAME      = config.get(\"DWH\", \"DWH_IAM_ROLE_NAME\")\n",
    "\n",
    "(DWH_DB_USER, DWH_DB_PASSWORD, DWH_DB)\n",
    "\n",
    "pd.DataFrame({\"Param\":\n",
    "                  [\"DWH_CLUSTER_TYPE\", \"DWH_NUM_NODES\", \"DWH_NODE_TYPE\", \"DWH_CLUSTER_IDENTIFIER\", \"DWH_DB\", \"DWH_DB_USER\", \"DWH_DB_PASSWORD\", \"DWH_PORT\", \"DWH_IAM_ROLE_NAME\"],\n",
    "              \"Value\":\n",
    "                  [DWH_CLUSTER_TYPE, DWH_NUM_NODES, DWH_NODE_TYPE, DWH_CLUSTER_IDENTIFIER, DWH_DB, DWH_DB_USER, DWH_DB_PASSWORD, DWH_PORT, DWH_IAM_ROLE_NAME]\n",
    "             })"
   ]
  },
  {
   "cell_type": "code",
   "execution_count": null,
   "id": "aa92c52b",
   "metadata": {},
   "outputs": [],
   "source": [
    "# create clients for EC2, S3, IAM, and Redshift\n",
    "import boto3\n",
    "\n",
    "ec2 = boto3.resource('ec2',\n",
    "                     region_name = 'us-east-1',\n",
    "                     aws_access_key_id = KEY,\n",
    "                     aws_secret_access_key = SECRET\n",
    "                    )\n",
    "\n",
    "s3 = boto3.resource('s3',\n",
    "                     region_name = 'us-east-1',\n",
    "                     aws_access_key_id = KEY,\n",
    "                     aws_secret_access_key = SECRET\n",
    "                    )\n",
    "\n",
    "iam = boto3.client('iam',\n",
    "                        region_name = 'us-east-1',\n",
    "                        aws_access_key_id = KEY,\n",
    "                        aws_secret_access_key = SECRET)\n",
    "\n",
    "redshift = boto3.client('redshift',\n",
    "                        region_name = 'us-east-1',\n",
    "                        aws_access_key_id = KEY,\n",
    "                        aws_secret_access_key = SECRET)"
   ]
  },
  {
   "cell_type": "code",
   "execution_count": null,
   "id": "65e551b9",
   "metadata": {},
   "outputs": [],
   "source": [
    "# before running the following code\n",
    "# give IAM user `AdministratorAccess` from `Attach policies`\n",
    "from botocore.exceptions import ClientError\n",
    "\n",
    "# 1.1 Create the role,\n",
    "try:\n",
    "    print(\"1.1 Creating a new IAM Role\")\n",
    "    dwhRole = iam.create_role(\n",
    "        Path = '/',\n",
    "        RoleName = DWH_IAM_ROLE_NAME,\n",
    "        Description = \"Allows Redshift clusters to call AWS services on your behalf.\",\n",
    "    AssumeRolePolicyDocument = json.dumps(\n",
    "        {'Statement': [{'Action': 'sts:AssumeRole',\n",
    "                        'Effect': 'Allow',\n",
    "                        'Principal': {'Service': 'redshift.amazonaws.com'}}],\n",
    "         'Version': '2012-10-17'})\n",
    "    )\n",
    "except Exception as e:\n",
    "    print(e)\n",
    "\n",
    "print(\"1.2 Attaching Policy\")\n",
    "\n",
    "iam.attach_role_policy(RoleName = DWH_IAM_ROLE_NAME,\n",
    "                       PolicyArn = 'arn:aws:iam::aws:policy/AmazonS3ReadOnlyAccess'\n",
    "                      )['ResponseMetadata']['HTTPStatusCode']\n",
    "\n",
    "print(\"1.3 Get the IAM role ARN\")\n",
    "roleArn = iam.get_role(RoleName = DWH_IAM_ROLE_NAME)['Role']['Arn']\n",
    "\n",
    "print(roleArn)"
   ]
  },
  {
   "cell_type": "code",
   "execution_count": null,
   "id": "88a2d52c",
   "metadata": {},
   "outputs": [],
   "source": [
    "try:\n",
    "    response = redshift.create_cluster(\n",
    "        #HW\n",
    "        ClusterType = DWH_CLUSTER_TYPE,\n",
    "        NodeType = DWH_NODE_TYPE,\n",
    "        NumberOfNodes = int(DWH_NUM_NODES),\n",
    "        \n",
    "        #Identifiers & Credentials\n",
    "        DBName = DWH_DB,\n",
    "        ClusterIdentifier = DWH_CLUSTER_IDENTIFIER,\n",
    "        MasterUsername = DWH_DB_USER,\n",
    "        MasterUserPassword = DWH_DB_PASSWORD,\n",
    "        \n",
    "        #Roles (for s3 access)\n",
    "        IamRoles = [roleArn]\n",
    "    )\n",
    "except Exception as e:\n",
    "    print(e)"
   ]
  },
  {
   "cell_type": "code",
   "execution_count": null,
   "id": "59f13164",
   "metadata": {},
   "outputs": [],
   "source": [
    "# run this block several times until the cluster status becomes `Available`\n",
    "def prettyRedshiftProps(props):\n",
    "    pd.set_option('display.max_colwidth', -1)\n",
    "    keysToShow = [\"ClusterIdentifier\", \"NodeType\", \"ClusterStatus\", \"MasterUsername\", \"DBName\", \"Endpoint\", \\\n",
    "                  \"NumberOfNodes\", \"VpcId\"]\n",
    "    x = [(k, v) for k, v in props.items() if k in keysToShow]\n",
    "    return pd.DataFrame(data = x, columns = [\"Key\", \"Value\"])\n",
    "\n",
    "myClusterProps = redshift.describe_clusters(ClusterIdentifier = DWH_CLUSTER_IDENTIFIER)['Clusters'][0]\n",
    "prettyRedshiftProps(myClusterProps)"
   ]
  },
  {
   "cell_type": "code",
   "execution_count": null,
   "id": "3a1bd313",
   "metadata": {},
   "outputs": [],
   "source": [
    "# DO NOT RUN THIS unless the cluster status becomes \"Available\"\n",
    "DWH_ENDPOINT = myClusterProps['Endpoint']['Address']\n",
    "DWH_ROLE_ARN = myClusterProps['IamRoles'][0]['IamRoleArn']\n",
    "print(\"DWH_ENDPOINT :: \", DWH_ENDPOINT)\n",
    "print(\"DWH_ROLE_ARN :: \", DWH_ROLE_ARN)"
   ]
  },
  {
   "cell_type": "markdown",
   "id": "f4c2e1f7",
   "metadata": {},
   "source": [
    "### 4. Add Redshift Database and IAM Role into `dwh.cfg`\n",
    "<br>[CLUSTER]\n",
    "<br>HOST=\\<YOUR HOST>\n",
    "<br>DB_NAME=dwh\n",
    "<br>DB_USER=dwhuser\n",
    "<br>DB_PASSWORD=Passw0rd\n",
    "<br>DB_PORT=5439\n",
    "<br>REGION=us-west-2\n",
    "\n",
    "<br>[IAM_ROLE]\n",
    "<br>ARN=\\<YOUR ARN>\n",
    "\n",
    "<br>[S3]\n",
    "<br>LOG_DATA='s3://udacity-dend/log_data'\n",
    "<br>SONG_DATA='s3://udacity-dend/song_data'\n",
    "<br>LOG_JSONPATH='s3://udacity-dend/log_json_path.json'"
   ]
  },
  {
   "cell_type": "code",
   "execution_count": null,
   "id": "0a233891",
   "metadata": {},
   "outputs": [],
   "source": [
    "try:\n",
    "    vpc = ec2.Vpc(id = myClusterProps['VpcId'])\n",
    "    defaultSg = list(vpc.security_groups.all())[0]\n",
    "    print(defaultSg)\n",
    "    \n",
    "    defaultSg.authorize_ingress(\n",
    "        GroupName = defaultSg.group_name,\n",
    "        CidrIp = '0.0.0.0/0',\n",
    "        IpProtocol = 'TCP',\n",
    "        FromPort = int(DWH_PORT),\n",
    "        ToPort = int(DWH_PORT)\n",
    "    )\n",
    "except Exception as e:\n",
    "    print(e)"
   ]
  },
  {
   "cell_type": "code",
   "execution_count": null,
   "id": "1c64fd29",
   "metadata": {},
   "outputs": [],
   "source": [
    "%load_ext sql"
   ]
  },
  {
   "cell_type": "code",
   "execution_count": null,
   "id": "df462df5",
   "metadata": {},
   "outputs": [],
   "source": [
    "conn_string = 'postgresql://{}:{}@{}:{}/{}'.format(DWH_DB_USER, DWH_DB_PASSWORD, DWH_ENDPOINT, DWH_PORT, DWH_DB)\n",
    "print(conn_string)\n",
    "%sql $conn_string"
   ]
  },
  {
   "cell_type": "markdown",
   "id": "712b889d",
   "metadata": {},
   "source": [
    "### 5. Drop and Create Tables\n",
    "```\n",
    "% python create_tables.py\n",
    "```\n",
    "### 6. Run `etl.py`\n",
    "```\n",
    "% python etl.py\n",
    "```\n",
    "\n",
    "### 7. Test Example Queries\n",
    "**7.1 Data Rows Check**"
   ]
  },
  {
   "cell_type": "code",
   "execution_count": null,
   "id": "fcd98922",
   "metadata": {},
   "outputs": [],
   "source": [
    "%sql SELECT COUNT(*) FROM staging_events"
   ]
  },
  {
   "cell_type": "code",
   "execution_count": null,
   "id": "20abefd9",
   "metadata": {},
   "outputs": [],
   "source": [
    "%sql SELECT COUNT(*) FROM staging_songs"
   ]
  },
  {
   "cell_type": "code",
   "execution_count": null,
   "id": "8be2cba1",
   "metadata": {},
   "outputs": [],
   "source": [
    "%sql SELECT COUNT(*) FROM songplays"
   ]
  },
  {
   "cell_type": "code",
   "execution_count": null,
   "id": "3e2cb9f7",
   "metadata": {},
   "outputs": [],
   "source": [
    "%sql SELECT COUNT(*) FROM users"
   ]
  },
  {
   "cell_type": "code",
   "execution_count": null,
   "id": "0c1f15cb",
   "metadata": {},
   "outputs": [],
   "source": [
    "%sql SELECT COUNT(*) FROM songs"
   ]
  },
  {
   "cell_type": "code",
   "execution_count": null,
   "id": "505f6976",
   "metadata": {},
   "outputs": [],
   "source": [
    "%sql SELECT COUNT(*) FROM artists"
   ]
  },
  {
   "cell_type": "code",
   "execution_count": null,
   "id": "36590000",
   "metadata": {},
   "outputs": [],
   "source": [
    "%sql SELECT COUNT(*) FROM time"
   ]
  },
  {
   "cell_type": "markdown",
   "id": "0acd9d76",
   "metadata": {},
   "source": [
    "**7.2 Song Play Analysis**\n",
    "1. Which 20 songs are most popular?"
   ]
  },
  {
   "cell_type": "code",
   "execution_count": null,
   "id": "30046de2",
   "metadata": {},
   "outputs": [],
   "source": [
    "%%time\n",
    "%%sql\n",
    "SELECT s.title,\n",
    "       COUNT(*) times\n",
    "FROM songs s\n",
    "JOIN songplays sp\n",
    "ON s.song_id = sp.song_id\n",
    "GROUP BY s.title\n",
    "ORDER BY times DESC\n",
    "LIMIT 20;"
   ]
  },
  {
   "cell_type": "markdown",
   "id": "7fbd8cc5",
   "metadata": {},
   "source": [
    "2. Which 10 artists are most popular?"
   ]
  },
  {
   "cell_type": "code",
   "execution_count": null,
   "id": "9e7b55c9",
   "metadata": {},
   "outputs": [],
   "source": [
    "%%time\n",
    "%%sql\n",
    "SELECT a.name,\n",
    "       COUNT(*) hotness\n",
    "FROM songplays sp\n",
    "LEFT JOIN artists a\n",
    "ON sp.artist_id = a.artist_id\n",
    "GROUP BY a.name\n",
    "ORDER BY hotness DESC\n",
    "LIMIT 10"
   ]
  },
  {
   "cell_type": "markdown",
   "id": "95f4af92",
   "metadata": {},
   "source": [
    "3. What time has the highest traffic on the app?"
   ]
  },
  {
   "cell_type": "code",
   "execution_count": null,
   "id": "5c32a1b6",
   "metadata": {},
   "outputs": [],
   "source": [
    "%%time\n",
    "%%sql\n",
    "SELECT t.hour,\n",
    "       COUNT(*) hotness\n",
    "FROM songplays sp\n",
    "LEFT JOIN time t\n",
    "ON t.start_time = sp.start_time\n",
    "GROUP BY t.hour\n",
    "ORDER BY hotness DESC\n",
    "LIMIT 5"
   ]
  },
  {
   "cell_type": "markdown",
   "id": "b600b9a6",
   "metadata": {},
   "source": [
    "4. Who are the 50 most active users?"
   ]
  },
  {
   "cell_type": "code",
   "execution_count": null,
   "id": "31415568",
   "metadata": {},
   "outputs": [],
   "source": [
    "%%time\n",
    "%%sql\n",
    "SELECT u.user_id,\n",
    "       u.first_name,\n",
    "       u.last_name,\n",
    "       u.gender,\n",
    "       u.level,\n",
    "       COUNT(*) activeness\n",
    "FROM songplays sp\n",
    "LEFT JOIN users u\n",
    "ON sp.user_id = u.user_id\n",
    "GROUP BY u.user_id\n",
    "ORDER BY activeness DESC\n",
    "LIMIT 50"
   ]
  },
  {
   "cell_type": "markdown",
   "id": "06e29922",
   "metadata": {},
   "source": [
    "### 8. Delete the Redshift Cluster"
   ]
  },
  {
   "cell_type": "code",
   "execution_count": null,
   "id": "d9b2ccd1",
   "metadata": {},
   "outputs": [],
   "source": [
    "#### CAREFUL!!\n",
    "#-- Uncomment & run to delete the created resources\n",
    "redshift.delete_cluster( ClusterIdentifier=DWH_CLUSTER_IDENTIFIER,  SkipFinalClusterSnapshot=True)\n",
    "#### CAREFUL!!"
   ]
  },
  {
   "cell_type": "code",
   "execution_count": null,
   "id": "6a85ef4e",
   "metadata": {},
   "outputs": [],
   "source": [
    "# run this block several times until the cluster really deleted\n",
    "myClusterProps = redshift.describe_clusters(ClusterIdentifier=DWH_CLUSTER_IDENTIFIER)['Clusters'][0]\n",
    "prettyRedshiftProps(myClusterProps)"
   ]
  },
  {
   "cell_type": "code",
   "execution_count": null,
   "id": "7bdcc8ef",
   "metadata": {},
   "outputs": [],
   "source": [
    "#### CAREFUL!!\n",
    "#-- Uncomment & run to delete the created resources\n",
    "iam.detach_role_policy(RoleName=DWH_IAM_ROLE_NAME, PolicyArn=\"arn:aws:iam::aws:policy/AmazonS3ReadOnlyAccess\")\n",
    "iam.delete_role(RoleName=DWH_IAM_ROLE_NAME)\n",
    "#### CAREFUL!!"
   ]
  }
 ],
 "metadata": {
  "kernelspec": {
   "display_name": "Python 3 (ipykernel)",
   "language": "python",
   "name": "python3"
  },
  "language_info": {
   "codemirror_mode": {
    "name": "ipython",
    "version": 3
   },
   "file_extension": ".py",
   "mimetype": "text/x-python",
   "name": "python",
   "nbconvert_exporter": "python",
   "pygments_lexer": "ipython3",
   "version": "3.8.5"
  }
 },
 "nbformat": 4,
 "nbformat_minor": 5
}
